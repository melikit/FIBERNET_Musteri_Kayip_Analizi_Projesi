{
 "cells": [
  {
   "cell_type": "code",
   "execution_count": 143,
   "id": "69139244-ce6b-4a23-b9c4-746305d5cca2",
   "metadata": {},
   "outputs": [],
   "source": [
    "import numpy as np\n",
    "import pandas as pd\n",
    "import matplotlib.pyplot as plt\n",
    "import random\n",
    "import sklearn"
   ]
  },
  {
   "cell_type": "code",
   "execution_count": 145,
   "id": "c2f99970-ec12-428d-8922-04a41aa69e5d",
   "metadata": {},
   "outputs": [
    {
     "name": "stdout",
     "output_type": "stream",
     "text": [
      "   customerID  gender  SeniorCitizen Partner Dependents  tenure PhoneService  \\\n",
      "0  7590-VHVEG  Female              0     Yes         No       1           No   \n",
      "1  5575-GNVDE    Male              0      No         No      34          Yes   \n",
      "2  3668-QPYBK    Male              0      No         No       2          Yes   \n",
      "3  7795-CFOCW    Male              0      No         No      45           No   \n",
      "4  9237-HQITU  Female              0      No         No       2          Yes   \n",
      "\n",
      "      MultipleLines InternetService OnlineSecurity  ... DeviceProtection  \\\n",
      "0  No phone service             DSL             No  ...               No   \n",
      "1                No             DSL            Yes  ...              Yes   \n",
      "2                No             DSL            Yes  ...               No   \n",
      "3  No phone service             DSL            Yes  ...              Yes   \n",
      "4                No     Fiber optic             No  ...               No   \n",
      "\n",
      "  TechSupport StreamingTV StreamingMovies        Contract PaperlessBilling  \\\n",
      "0          No          No              No  Month-to-month              Yes   \n",
      "1          No          No              No        One year               No   \n",
      "2          No          No              No  Month-to-month              Yes   \n",
      "3         Yes          No              No        One year               No   \n",
      "4          No          No              No  Month-to-month              Yes   \n",
      "\n",
      "               PaymentMethod MonthlyCharges  TotalCharges Churn  \n",
      "0           Electronic check          29.85         29.85    No  \n",
      "1               Mailed check          56.95        1889.5    No  \n",
      "2               Mailed check          53.85        108.15   Yes  \n",
      "3  Bank transfer (automatic)          42.30       1840.75    No  \n",
      "4           Electronic check          70.70        151.65   Yes  \n",
      "\n",
      "[5 rows x 21 columns]\n"
     ]
    }
   ],
   "source": [
    "veri = pd.read_csv(\"FİBERNET Müşteri Kayıp Veri Seti.csv\")\n",
    "print(veri.head())"
   ]
  },
  {
   "cell_type": "code",
   "execution_count": 147,
   "id": "6395a8c5-1e96-4c83-956f-b0930d755838",
   "metadata": {},
   "outputs": [
    {
     "data": {
      "text/plain": [
       "Index(['customerID', 'gender', 'SeniorCitizen', 'Partner', 'Dependents',\n",
       "       'tenure', 'PhoneService', 'MultipleLines', 'InternetService',\n",
       "       'OnlineSecurity', 'OnlineBackup', 'DeviceProtection', 'TechSupport',\n",
       "       'StreamingTV', 'StreamingMovies', 'Contract', 'PaperlessBilling',\n",
       "       'PaymentMethod', 'MonthlyCharges', 'TotalCharges', 'Churn'],\n",
       "      dtype='object')"
      ]
     },
     "execution_count": 147,
     "metadata": {},
     "output_type": "execute_result"
    }
   ],
   "source": [
    "veri.columns"
   ]
  },
  {
   "cell_type": "code",
   "execution_count": 148,
   "id": "00bb440c-7c2d-4eec-815e-3f4e13a349f8",
   "metadata": {},
   "outputs": [
    {
     "name": "stdout",
     "output_type": "stream",
     "text": [
      "<class 'pandas.core.frame.DataFrame'>\n",
      "RangeIndex: 7043 entries, 0 to 7042\n",
      "Data columns (total 21 columns):\n",
      " #   Column            Non-Null Count  Dtype  \n",
      "---  ------            --------------  -----  \n",
      " 0   customerID        7043 non-null   object \n",
      " 1   gender            7043 non-null   object \n",
      " 2   SeniorCitizen     7043 non-null   int64  \n",
      " 3   Partner           7043 non-null   object \n",
      " 4   Dependents        7043 non-null   object \n",
      " 5   tenure            7043 non-null   int64  \n",
      " 6   PhoneService      7043 non-null   object \n",
      " 7   MultipleLines     7043 non-null   object \n",
      " 8   InternetService   7043 non-null   object \n",
      " 9   OnlineSecurity    7043 non-null   object \n",
      " 10  OnlineBackup      7043 non-null   object \n",
      " 11  DeviceProtection  7043 non-null   object \n",
      " 12  TechSupport       7043 non-null   object \n",
      " 13  StreamingTV       7043 non-null   object \n",
      " 14  StreamingMovies   7043 non-null   object \n",
      " 15  Contract          7043 non-null   object \n",
      " 16  PaperlessBilling  7043 non-null   object \n",
      " 17  PaymentMethod     7043 non-null   object \n",
      " 18  MonthlyCharges    7043 non-null   float64\n",
      " 19  TotalCharges      7043 non-null   object \n",
      " 20  Churn             7043 non-null   object \n",
      "dtypes: float64(1), int64(2), object(18)\n",
      "memory usage: 1.1+ MB\n"
     ]
    }
   ],
   "source": [
    "veri.info()\n"
   ]
  },
  {
   "cell_type": "code",
   "execution_count": 151,
   "id": "e10e168d-6c8b-49ef-aa18-c5f39afdef28",
   "metadata": {},
   "outputs": [
    {
     "data": {
      "text/plain": [
       "TotalCharges\n",
       "          11\n",
       "20.2      11\n",
       "19.75      9\n",
       "20.05      8\n",
       "19.9       8\n",
       "          ..\n",
       "6849.4     1\n",
       "692.35     1\n",
       "130.15     1\n",
       "3211.9     1\n",
       "6844.5     1\n",
       "Name: count, Length: 6531, dtype: int64"
      ]
     },
     "execution_count": 151,
     "metadata": {},
     "output_type": "execute_result"
    }
   ],
   "source": [
    "veri['TotalCharges'].value_counts()"
   ]
  },
  {
   "cell_type": "code",
   "execution_count": 152,
   "id": "b412fc06-f238-47b9-ab77-901bcb1d6116",
   "metadata": {},
   "outputs": [],
   "source": [
    "# Hata yönetimli dönüştürme: Sayıya çeviremediği her şeyi NaN yapar.\n",
    "veri['TotalCharges'] = pd.to_numeric(veri['TotalCharges'], errors='coerce')"
   ]
  },
  {
   "cell_type": "code",
   "execution_count": 153,
   "id": "07e308cb-e513-418c-906b-c69d77ea8ca8",
   "metadata": {},
   "outputs": [],
   "source": [
    "veri['TotalCharges']=veri['TotalCharges'].replace(' ',np.nan)"
   ]
  },
  {
   "cell_type": "code",
   "execution_count": 154,
   "id": "d9247be9-ff04-4f92-803f-3f0bf27bc1f8",
   "metadata": {},
   "outputs": [],
   "source": [
    "veri['TotalCharges']=veri['TotalCharges'].fillna(0)"
   ]
  },
  {
   "cell_type": "code",
   "execution_count": 159,
   "id": "d69017db-ccce-4ead-9e2c-811b1fda38d8",
   "metadata": {},
   "outputs": [],
   "source": [
    "veri['TotalCharges']=veri['TotalCharges'].astype(float)"
   ]
  },
  {
   "cell_type": "code",
   "execution_count": 160,
   "id": "19202e58-1706-49d6-b63b-0b20626f0180",
   "metadata": {},
   "outputs": [
    {
     "data": {
      "text/plain": [
       "TotalCharges\n",
       "0.00       11\n",
       "20.20      11\n",
       "19.75       9\n",
       "20.05       8\n",
       "19.90       8\n",
       "           ..\n",
       "6849.40     1\n",
       "692.35      1\n",
       "130.15      1\n",
       "3211.90     1\n",
       "6844.50     1\n",
       "Name: count, Length: 6531, dtype: int64"
      ]
     },
     "execution_count": 160,
     "metadata": {},
     "output_type": "execute_result"
    }
   ],
   "source": [
    "veri['TotalCharges'].value_counts()"
   ]
  },
  {
   "cell_type": "code",
   "execution_count": 161,
   "id": "0ef5b839-eddc-4aac-b237-506cc57ec7de",
   "metadata": {},
   "outputs": [
    {
     "name": "stderr",
     "output_type": "stream",
     "text": [
      "C:\\Users\\Melike\\AppData\\Local\\Temp\\ipykernel_6992\\750032601.py:2: FutureWarning: Downcasting behavior in `replace` is deprecated and will be removed in a future version. To retain the old behavior, explicitly call `result.infer_objects(copy=False)`. To opt-in to the future behavior, set `pd.set_option('future.no_silent_downcasting', True)`\n",
      "  veri['Churn']=veri['Churn'].replace('No',0)\n"
     ]
    }
   ],
   "source": [
    "veri['Churn']=veri['Churn'].replace('Yes',1)\n",
    "veri['Churn']=veri['Churn'].replace('No',0)"
   ]
  },
  {
   "cell_type": "code",
   "execution_count": 162,
   "id": "df5fdec1-c965-451e-8f19-bc35001df1fd",
   "metadata": {},
   "outputs": [
    {
     "name": "stderr",
     "output_type": "stream",
     "text": [
      "C:\\Users\\Melike\\AppData\\Local\\Temp\\ipykernel_6992\\3484467311.py:1: FutureWarning: Downcasting behavior in `replace` is deprecated and will be removed in a future version. To retain the old behavior, explicitly call `result.infer_objects(copy=False)`. To opt-in to the future behavior, set `pd.set_option('future.no_silent_downcasting', True)`\n",
      "  veri['Partner'] = veri['Partner'].replace(['Yes', 'No'], [1, 0])\n"
     ]
    }
   ],
   "source": [
    "veri['Partner'] = veri['Partner'].replace(['Yes', 'No'], [1, 0]) "
   ]
  },
  {
   "cell_type": "code",
   "execution_count": 163,
   "id": "82327b9c-baf7-4615-a3f5-5068b0332ac7",
   "metadata": {},
   "outputs": [
    {
     "name": "stderr",
     "output_type": "stream",
     "text": [
      "C:\\Users\\Melike\\AppData\\Local\\Temp\\ipykernel_6992\\1099765215.py:1: FutureWarning: Downcasting behavior in `replace` is deprecated and will be removed in a future version. To retain the old behavior, explicitly call `result.infer_objects(copy=False)`. To opt-in to the future behavior, set `pd.set_option('future.no_silent_downcasting', True)`\n",
      "  veri['Dependents'] = veri['Dependents'].replace(['Yes', 'No'], [1, 0])\n"
     ]
    }
   ],
   "source": [
    "veri['Dependents'] = veri['Dependents'].replace(['Yes', 'No'], [1, 0]) "
   ]
  },
  {
   "cell_type": "code",
   "execution_count": 169,
   "id": "17419ba5-3f75-45cb-890e-f5ff271ff819",
   "metadata": {},
   "outputs": [
    {
     "name": "stderr",
     "output_type": "stream",
     "text": [
      "C:\\Users\\Melike\\AppData\\Local\\Temp\\ipykernel_6992\\1918518042.py:1: FutureWarning: Downcasting behavior in `replace` is deprecated and will be removed in a future version. To retain the old behavior, explicitly call `result.infer_objects(copy=False)`. To opt-in to the future behavior, set `pd.set_option('future.no_silent_downcasting', True)`\n",
      "  veri['PhoneService'] = veri['PhoneService'].replace(['Yes', 'No'], [1, 0])\n"
     ]
    }
   ],
   "source": [
    "veri['PhoneService'] = veri['PhoneService'].replace(['Yes', 'No'], [1, 0]) "
   ]
  },
  {
   "cell_type": "code",
   "execution_count": 170,
   "id": "bb50b69e-b32d-40a6-8db7-f9e261b56ed1",
   "metadata": {},
   "outputs": [],
   "source": [
    "veri['MultipleLines'] = veri['MultipleLines'].replace(['Yes', 'No'], [1, 0]) "
   ]
  },
  {
   "cell_type": "code",
   "execution_count": 171,
   "id": "8892eea9-e9b8-425e-943d-c1f5d87f6afe",
   "metadata": {},
   "outputs": [],
   "source": [
    "veri['OnlineSecurity'] = veri['OnlineSecurity'].replace(['Yes', 'No'], [1, 0]) "
   ]
  },
  {
   "cell_type": "code",
   "execution_count": 172,
   "id": "7dd239a7-bd10-46e0-a2f9-a8b177716d50",
   "metadata": {},
   "outputs": [],
   "source": [
    "veri['OnlineBackup'] = veri['OnlineBackup'].replace(['Yes', 'No'], [1, 0]) "
   ]
  },
  {
   "cell_type": "code",
   "execution_count": 173,
   "id": "9c7f2f22-0174-4c2d-9b1f-037230333533",
   "metadata": {},
   "outputs": [],
   "source": [
    "veri['DeviceProtection'] = veri['DeviceProtection'].replace(['Yes', 'No'], [1, 0]) "
   ]
  },
  {
   "cell_type": "code",
   "execution_count": 174,
   "id": "493c1572-8f84-4869-bc93-487fe9dd16cc",
   "metadata": {},
   "outputs": [],
   "source": [
    "veri['TechSupport'] = veri['TechSupport'].replace(['Yes', 'No'], [1, 0]) "
   ]
  },
  {
   "cell_type": "code",
   "execution_count": 175,
   "id": "e91124e4-55dc-4d9e-830d-1b39529e1e44",
   "metadata": {},
   "outputs": [],
   "source": [
    "veri['StreamingTV'] = veri['StreamingTV'].replace(['Yes', 'No'], [1, 0]) "
   ]
  },
  {
   "cell_type": "code",
   "execution_count": 183,
   "id": "635b949b-73eb-44db-ab3d-36261ec2c345",
   "metadata": {},
   "outputs": [],
   "source": [
    "veri['StreamingMovies'] = veri['StreamingMovies'].replace(['Yes', 'No'], [1, 0]) "
   ]
  },
  {
   "cell_type": "code",
   "execution_count": 184,
   "id": "8f707099-9065-4ed3-a7d0-3ba0192287a5",
   "metadata": {},
   "outputs": [
    {
     "name": "stderr",
     "output_type": "stream",
     "text": [
      "C:\\Users\\Melike\\AppData\\Local\\Temp\\ipykernel_6992\\2778870357.py:1: FutureWarning: Downcasting behavior in `replace` is deprecated and will be removed in a future version. To retain the old behavior, explicitly call `result.infer_objects(copy=False)`. To opt-in to the future behavior, set `pd.set_option('future.no_silent_downcasting', True)`\n",
      "  veri['PaperlessBilling'] = veri['PaperlessBilling'].replace(['Yes', 'No'], [1, 0])\n"
     ]
    }
   ],
   "source": [
    "veri['PaperlessBilling'] = veri['PaperlessBilling'].replace(['Yes', 'No'], [1, 0]) "
   ]
  },
  {
   "cell_type": "code",
   "execution_count": 185,
   "id": "19f1c272-68ec-4114-9021-50c8199cf4ba",
   "metadata": {},
   "outputs": [
    {
     "name": "stderr",
     "output_type": "stream",
     "text": [
      "C:\\Users\\Melike\\AppData\\Local\\Temp\\ipykernel_6992\\2509802855.py:1: FutureWarning: Downcasting behavior in `replace` is deprecated and will be removed in a future version. To retain the old behavior, explicitly call `result.infer_objects(copy=False)`. To opt-in to the future behavior, set `pd.set_option('future.no_silent_downcasting', True)`\n",
      "  veri['gender'] = veri['gender'].replace(['Female', 'Male'], [1, 0])\n"
     ]
    }
   ],
   "source": [
    "veri['gender'] = veri['gender'].replace(['Female', 'Male'], [1, 0]) "
   ]
  },
  {
   "cell_type": "code",
   "execution_count": 186,
   "id": "c8e88c27-9229-463f-86f0-723b0de9aee8",
   "metadata": {},
   "outputs": [],
   "source": [
    "veri=pd.get_dummies(veri)"
   ]
  },
  {
   "cell_type": "code",
   "execution_count": 187,
   "id": "e910e48f-560e-46a9-87cd-e3120cbe3411",
   "metadata": {},
   "outputs": [
    {
     "name": "stdout",
     "output_type": "stream",
     "text": [
      "<class 'pandas.core.frame.DataFrame'>\n",
      "RangeIndex: 7043 entries, 0 to 7042\n",
      "Columns: 7084 entries, gender to PaymentMethod_Mailed check\n",
      "dtypes: bool(7074), float64(2), int64(8)\n",
      "memory usage: 48.1 MB\n"
     ]
    }
   ],
   "source": [
    "veri.info()"
   ]
  },
  {
   "cell_type": "code",
   "execution_count": 188,
   "id": "4953b0d2-a04b-4713-87a8-c281076712f3",
   "metadata": {},
   "outputs": [
    {
     "data": {
      "text/plain": [
       "Index(['gender', 'SeniorCitizen', 'Partner', 'Dependents', 'tenure',\n",
       "       'PhoneService', 'PaperlessBilling', 'MonthlyCharges', 'TotalCharges',\n",
       "       'Churn',\n",
       "       ...\n",
       "       'StreamingMovies_0', 'StreamingMovies_1',\n",
       "       'StreamingMovies_No internet service', 'Contract_Month-to-month',\n",
       "       'Contract_One year', 'Contract_Two year',\n",
       "       'PaymentMethod_Bank transfer (automatic)',\n",
       "       'PaymentMethod_Credit card (automatic)',\n",
       "       'PaymentMethod_Electronic check', 'PaymentMethod_Mailed check'],\n",
       "      dtype='object', length=7084)"
      ]
     },
     "execution_count": 188,
     "metadata": {},
     "output_type": "execute_result"
    }
   ],
   "source": [
    "veri.columns"
   ]
  },
  {
   "cell_type": "code",
   "execution_count": 189,
   "id": "2308cf46-9a68-4687-92c4-b1f880dc0ff3",
   "metadata": {},
   "outputs": [],
   "source": [
    "veri = veri.drop(columns=['customerID', 'gender_Female', 'InternetService_No', \n",
    "                         'Contract_Month-to-month', 'PaymentMethod_Mailed check'], axis=1, errors='ignore')"
   ]
  },
  {
   "cell_type": "code",
   "execution_count": 190,
   "id": "c8b4493b-9fa3-4ab3-bccb-b2fe3d4ee1dc",
   "metadata": {},
   "outputs": [],
   "source": [
    "from sklearn.model_selection import train_test_split"
   ]
  },
  {
   "cell_type": "code",
   "execution_count": 191,
   "id": "feaa3140-f6fa-48ca-af9e-be3b74bcd0fd",
   "metadata": {},
   "outputs": [],
   "source": [
    "y = veri['Churn']\n",
    "x = veri.drop(columns=['Churn'], axis=1)\n"
   ]
  },
  {
   "cell_type": "code",
   "execution_count": 195,
   "id": "9a25e814-0361-41b9-9183-2b6f20daf829",
   "metadata": {},
   "outputs": [],
   "source": [
    "from sklearn.model_selection import train_test_split\n",
    "X_train, X_test, Y_train, Y_test = train_test_split(x, y, test_size=0.3, random_state=42)"
   ]
  },
  {
   "cell_type": "code",
   "execution_count": 197,
   "id": "89de3efe-cae3-4ce1-9215-294b9dbc86ba",
   "metadata": {},
   "outputs": [],
   "source": [
    "from sklearn.preprocessing import StandardScaler\n",
    "scaler = StandardScaler()\n",
    "X_train_scaled = scaler.fit_transform(X_train)\n",
    "X_test_scaled = scaler.transform(X_test)"
   ]
  },
  {
   "cell_type": "code",
   "execution_count": 202,
   "id": "8439ca39-85b4-48f4-aa57-ff2657045122",
   "metadata": {},
   "outputs": [
    {
     "data": {
      "text/html": [
       "<style>#sk-container-id-3 {\n",
       "  /* Definition of color scheme common for light and dark mode */\n",
       "  --sklearn-color-text: black;\n",
       "  --sklearn-color-line: gray;\n",
       "  /* Definition of color scheme for unfitted estimators */\n",
       "  --sklearn-color-unfitted-level-0: #fff5e6;\n",
       "  --sklearn-color-unfitted-level-1: #f6e4d2;\n",
       "  --sklearn-color-unfitted-level-2: #ffe0b3;\n",
       "  --sklearn-color-unfitted-level-3: chocolate;\n",
       "  /* Definition of color scheme for fitted estimators */\n",
       "  --sklearn-color-fitted-level-0: #f0f8ff;\n",
       "  --sklearn-color-fitted-level-1: #d4ebff;\n",
       "  --sklearn-color-fitted-level-2: #b3dbfd;\n",
       "  --sklearn-color-fitted-level-3: cornflowerblue;\n",
       "\n",
       "  /* Specific color for light theme */\n",
       "  --sklearn-color-text-on-default-background: var(--sg-text-color, var(--theme-code-foreground, var(--jp-content-font-color1, black)));\n",
       "  --sklearn-color-background: var(--sg-background-color, var(--theme-background, var(--jp-layout-color0, white)));\n",
       "  --sklearn-color-border-box: var(--sg-text-color, var(--theme-code-foreground, var(--jp-content-font-color1, black)));\n",
       "  --sklearn-color-icon: #696969;\n",
       "\n",
       "  @media (prefers-color-scheme: dark) {\n",
       "    /* Redefinition of color scheme for dark theme */\n",
       "    --sklearn-color-text-on-default-background: var(--sg-text-color, var(--theme-code-foreground, var(--jp-content-font-color1, white)));\n",
       "    --sklearn-color-background: var(--sg-background-color, var(--theme-background, var(--jp-layout-color0, #111)));\n",
       "    --sklearn-color-border-box: var(--sg-text-color, var(--theme-code-foreground, var(--jp-content-font-color1, white)));\n",
       "    --sklearn-color-icon: #878787;\n",
       "  }\n",
       "}\n",
       "\n",
       "#sk-container-id-3 {\n",
       "  color: var(--sklearn-color-text);\n",
       "}\n",
       "\n",
       "#sk-container-id-3 pre {\n",
       "  padding: 0;\n",
       "}\n",
       "\n",
       "#sk-container-id-3 input.sk-hidden--visually {\n",
       "  border: 0;\n",
       "  clip: rect(1px 1px 1px 1px);\n",
       "  clip: rect(1px, 1px, 1px, 1px);\n",
       "  height: 1px;\n",
       "  margin: -1px;\n",
       "  overflow: hidden;\n",
       "  padding: 0;\n",
       "  position: absolute;\n",
       "  width: 1px;\n",
       "}\n",
       "\n",
       "#sk-container-id-3 div.sk-dashed-wrapped {\n",
       "  border: 1px dashed var(--sklearn-color-line);\n",
       "  margin: 0 0.4em 0.5em 0.4em;\n",
       "  box-sizing: border-box;\n",
       "  padding-bottom: 0.4em;\n",
       "  background-color: var(--sklearn-color-background);\n",
       "}\n",
       "\n",
       "#sk-container-id-3 div.sk-container {\n",
       "  /* jupyter's `normalize.less` sets `[hidden] { display: none; }`\n",
       "     but bootstrap.min.css set `[hidden] { display: none !important; }`\n",
       "     so we also need the `!important` here to be able to override the\n",
       "     default hidden behavior on the sphinx rendered scikit-learn.org.\n",
       "     See: https://github.com/scikit-learn/scikit-learn/issues/21755 */\n",
       "  display: inline-block !important;\n",
       "  position: relative;\n",
       "}\n",
       "\n",
       "#sk-container-id-3 div.sk-text-repr-fallback {\n",
       "  display: none;\n",
       "}\n",
       "\n",
       "div.sk-parallel-item,\n",
       "div.sk-serial,\n",
       "div.sk-item {\n",
       "  /* draw centered vertical line to link estimators */\n",
       "  background-image: linear-gradient(var(--sklearn-color-text-on-default-background), var(--sklearn-color-text-on-default-background));\n",
       "  background-size: 2px 100%;\n",
       "  background-repeat: no-repeat;\n",
       "  background-position: center center;\n",
       "}\n",
       "\n",
       "/* Parallel-specific style estimator block */\n",
       "\n",
       "#sk-container-id-3 div.sk-parallel-item::after {\n",
       "  content: \"\";\n",
       "  width: 100%;\n",
       "  border-bottom: 2px solid var(--sklearn-color-text-on-default-background);\n",
       "  flex-grow: 1;\n",
       "}\n",
       "\n",
       "#sk-container-id-3 div.sk-parallel {\n",
       "  display: flex;\n",
       "  align-items: stretch;\n",
       "  justify-content: center;\n",
       "  background-color: var(--sklearn-color-background);\n",
       "  position: relative;\n",
       "}\n",
       "\n",
       "#sk-container-id-3 div.sk-parallel-item {\n",
       "  display: flex;\n",
       "  flex-direction: column;\n",
       "}\n",
       "\n",
       "#sk-container-id-3 div.sk-parallel-item:first-child::after {\n",
       "  align-self: flex-end;\n",
       "  width: 50%;\n",
       "}\n",
       "\n",
       "#sk-container-id-3 div.sk-parallel-item:last-child::after {\n",
       "  align-self: flex-start;\n",
       "  width: 50%;\n",
       "}\n",
       "\n",
       "#sk-container-id-3 div.sk-parallel-item:only-child::after {\n",
       "  width: 0;\n",
       "}\n",
       "\n",
       "/* Serial-specific style estimator block */\n",
       "\n",
       "#sk-container-id-3 div.sk-serial {\n",
       "  display: flex;\n",
       "  flex-direction: column;\n",
       "  align-items: center;\n",
       "  background-color: var(--sklearn-color-background);\n",
       "  padding-right: 1em;\n",
       "  padding-left: 1em;\n",
       "}\n",
       "\n",
       "\n",
       "/* Toggleable style: style used for estimator/Pipeline/ColumnTransformer box that is\n",
       "clickable and can be expanded/collapsed.\n",
       "- Pipeline and ColumnTransformer use this feature and define the default style\n",
       "- Estimators will overwrite some part of the style using the `sk-estimator` class\n",
       "*/\n",
       "\n",
       "/* Pipeline and ColumnTransformer style (default) */\n",
       "\n",
       "#sk-container-id-3 div.sk-toggleable {\n",
       "  /* Default theme specific background. It is overwritten whether we have a\n",
       "  specific estimator or a Pipeline/ColumnTransformer */\n",
       "  background-color: var(--sklearn-color-background);\n",
       "}\n",
       "\n",
       "/* Toggleable label */\n",
       "#sk-container-id-3 label.sk-toggleable__label {\n",
       "  cursor: pointer;\n",
       "  display: block;\n",
       "  width: 100%;\n",
       "  margin-bottom: 0;\n",
       "  padding: 0.5em;\n",
       "  box-sizing: border-box;\n",
       "  text-align: center;\n",
       "}\n",
       "\n",
       "#sk-container-id-3 label.sk-toggleable__label-arrow:before {\n",
       "  /* Arrow on the left of the label */\n",
       "  content: \"▸\";\n",
       "  float: left;\n",
       "  margin-right: 0.25em;\n",
       "  color: var(--sklearn-color-icon);\n",
       "}\n",
       "\n",
       "#sk-container-id-3 label.sk-toggleable__label-arrow:hover:before {\n",
       "  color: var(--sklearn-color-text);\n",
       "}\n",
       "\n",
       "/* Toggleable content - dropdown */\n",
       "\n",
       "#sk-container-id-3 div.sk-toggleable__content {\n",
       "  max-height: 0;\n",
       "  max-width: 0;\n",
       "  overflow: hidden;\n",
       "  text-align: left;\n",
       "  /* unfitted */\n",
       "  background-color: var(--sklearn-color-unfitted-level-0);\n",
       "}\n",
       "\n",
       "#sk-container-id-3 div.sk-toggleable__content.fitted {\n",
       "  /* fitted */\n",
       "  background-color: var(--sklearn-color-fitted-level-0);\n",
       "}\n",
       "\n",
       "#sk-container-id-3 div.sk-toggleable__content pre {\n",
       "  margin: 0.2em;\n",
       "  border-radius: 0.25em;\n",
       "  color: var(--sklearn-color-text);\n",
       "  /* unfitted */\n",
       "  background-color: var(--sklearn-color-unfitted-level-0);\n",
       "}\n",
       "\n",
       "#sk-container-id-3 div.sk-toggleable__content.fitted pre {\n",
       "  /* unfitted */\n",
       "  background-color: var(--sklearn-color-fitted-level-0);\n",
       "}\n",
       "\n",
       "#sk-container-id-3 input.sk-toggleable__control:checked~div.sk-toggleable__content {\n",
       "  /* Expand drop-down */\n",
       "  max-height: 200px;\n",
       "  max-width: 100%;\n",
       "  overflow: auto;\n",
       "}\n",
       "\n",
       "#sk-container-id-3 input.sk-toggleable__control:checked~label.sk-toggleable__label-arrow:before {\n",
       "  content: \"▾\";\n",
       "}\n",
       "\n",
       "/* Pipeline/ColumnTransformer-specific style */\n",
       "\n",
       "#sk-container-id-3 div.sk-label input.sk-toggleable__control:checked~label.sk-toggleable__label {\n",
       "  color: var(--sklearn-color-text);\n",
       "  background-color: var(--sklearn-color-unfitted-level-2);\n",
       "}\n",
       "\n",
       "#sk-container-id-3 div.sk-label.fitted input.sk-toggleable__control:checked~label.sk-toggleable__label {\n",
       "  background-color: var(--sklearn-color-fitted-level-2);\n",
       "}\n",
       "\n",
       "/* Estimator-specific style */\n",
       "\n",
       "/* Colorize estimator box */\n",
       "#sk-container-id-3 div.sk-estimator input.sk-toggleable__control:checked~label.sk-toggleable__label {\n",
       "  /* unfitted */\n",
       "  background-color: var(--sklearn-color-unfitted-level-2);\n",
       "}\n",
       "\n",
       "#sk-container-id-3 div.sk-estimator.fitted input.sk-toggleable__control:checked~label.sk-toggleable__label {\n",
       "  /* fitted */\n",
       "  background-color: var(--sklearn-color-fitted-level-2);\n",
       "}\n",
       "\n",
       "#sk-container-id-3 div.sk-label label.sk-toggleable__label,\n",
       "#sk-container-id-3 div.sk-label label {\n",
       "  /* The background is the default theme color */\n",
       "  color: var(--sklearn-color-text-on-default-background);\n",
       "}\n",
       "\n",
       "/* On hover, darken the color of the background */\n",
       "#sk-container-id-3 div.sk-label:hover label.sk-toggleable__label {\n",
       "  color: var(--sklearn-color-text);\n",
       "  background-color: var(--sklearn-color-unfitted-level-2);\n",
       "}\n",
       "\n",
       "/* Label box, darken color on hover, fitted */\n",
       "#sk-container-id-3 div.sk-label.fitted:hover label.sk-toggleable__label.fitted {\n",
       "  color: var(--sklearn-color-text);\n",
       "  background-color: var(--sklearn-color-fitted-level-2);\n",
       "}\n",
       "\n",
       "/* Estimator label */\n",
       "\n",
       "#sk-container-id-3 div.sk-label label {\n",
       "  font-family: monospace;\n",
       "  font-weight: bold;\n",
       "  display: inline-block;\n",
       "  line-height: 1.2em;\n",
       "}\n",
       "\n",
       "#sk-container-id-3 div.sk-label-container {\n",
       "  text-align: center;\n",
       "}\n",
       "\n",
       "/* Estimator-specific */\n",
       "#sk-container-id-3 div.sk-estimator {\n",
       "  font-family: monospace;\n",
       "  border: 1px dotted var(--sklearn-color-border-box);\n",
       "  border-radius: 0.25em;\n",
       "  box-sizing: border-box;\n",
       "  margin-bottom: 0.5em;\n",
       "  /* unfitted */\n",
       "  background-color: var(--sklearn-color-unfitted-level-0);\n",
       "}\n",
       "\n",
       "#sk-container-id-3 div.sk-estimator.fitted {\n",
       "  /* fitted */\n",
       "  background-color: var(--sklearn-color-fitted-level-0);\n",
       "}\n",
       "\n",
       "/* on hover */\n",
       "#sk-container-id-3 div.sk-estimator:hover {\n",
       "  /* unfitted */\n",
       "  background-color: var(--sklearn-color-unfitted-level-2);\n",
       "}\n",
       "\n",
       "#sk-container-id-3 div.sk-estimator.fitted:hover {\n",
       "  /* fitted */\n",
       "  background-color: var(--sklearn-color-fitted-level-2);\n",
       "}\n",
       "\n",
       "/* Specification for estimator info (e.g. \"i\" and \"?\") */\n",
       "\n",
       "/* Common style for \"i\" and \"?\" */\n",
       "\n",
       ".sk-estimator-doc-link,\n",
       "a:link.sk-estimator-doc-link,\n",
       "a:visited.sk-estimator-doc-link {\n",
       "  float: right;\n",
       "  font-size: smaller;\n",
       "  line-height: 1em;\n",
       "  font-family: monospace;\n",
       "  background-color: var(--sklearn-color-background);\n",
       "  border-radius: 1em;\n",
       "  height: 1em;\n",
       "  width: 1em;\n",
       "  text-decoration: none !important;\n",
       "  margin-left: 1ex;\n",
       "  /* unfitted */\n",
       "  border: var(--sklearn-color-unfitted-level-1) 1pt solid;\n",
       "  color: var(--sklearn-color-unfitted-level-1);\n",
       "}\n",
       "\n",
       ".sk-estimator-doc-link.fitted,\n",
       "a:link.sk-estimator-doc-link.fitted,\n",
       "a:visited.sk-estimator-doc-link.fitted {\n",
       "  /* fitted */\n",
       "  border: var(--sklearn-color-fitted-level-1) 1pt solid;\n",
       "  color: var(--sklearn-color-fitted-level-1);\n",
       "}\n",
       "\n",
       "/* On hover */\n",
       "div.sk-estimator:hover .sk-estimator-doc-link:hover,\n",
       ".sk-estimator-doc-link:hover,\n",
       "div.sk-label-container:hover .sk-estimator-doc-link:hover,\n",
       ".sk-estimator-doc-link:hover {\n",
       "  /* unfitted */\n",
       "  background-color: var(--sklearn-color-unfitted-level-3);\n",
       "  color: var(--sklearn-color-background);\n",
       "  text-decoration: none;\n",
       "}\n",
       "\n",
       "div.sk-estimator.fitted:hover .sk-estimator-doc-link.fitted:hover,\n",
       ".sk-estimator-doc-link.fitted:hover,\n",
       "div.sk-label-container:hover .sk-estimator-doc-link.fitted:hover,\n",
       ".sk-estimator-doc-link.fitted:hover {\n",
       "  /* fitted */\n",
       "  background-color: var(--sklearn-color-fitted-level-3);\n",
       "  color: var(--sklearn-color-background);\n",
       "  text-decoration: none;\n",
       "}\n",
       "\n",
       "/* Span, style for the box shown on hovering the info icon */\n",
       ".sk-estimator-doc-link span {\n",
       "  display: none;\n",
       "  z-index: 9999;\n",
       "  position: relative;\n",
       "  font-weight: normal;\n",
       "  right: .2ex;\n",
       "  padding: .5ex;\n",
       "  margin: .5ex;\n",
       "  width: min-content;\n",
       "  min-width: 20ex;\n",
       "  max-width: 50ex;\n",
       "  color: var(--sklearn-color-text);\n",
       "  box-shadow: 2pt 2pt 4pt #999;\n",
       "  /* unfitted */\n",
       "  background: var(--sklearn-color-unfitted-level-0);\n",
       "  border: .5pt solid var(--sklearn-color-unfitted-level-3);\n",
       "}\n",
       "\n",
       ".sk-estimator-doc-link.fitted span {\n",
       "  /* fitted */\n",
       "  background: var(--sklearn-color-fitted-level-0);\n",
       "  border: var(--sklearn-color-fitted-level-3);\n",
       "}\n",
       "\n",
       ".sk-estimator-doc-link:hover span {\n",
       "  display: block;\n",
       "}\n",
       "\n",
       "/* \"?\"-specific style due to the `<a>` HTML tag */\n",
       "\n",
       "#sk-container-id-3 a.estimator_doc_link {\n",
       "  float: right;\n",
       "  font-size: 1rem;\n",
       "  line-height: 1em;\n",
       "  font-family: monospace;\n",
       "  background-color: var(--sklearn-color-background);\n",
       "  border-radius: 1rem;\n",
       "  height: 1rem;\n",
       "  width: 1rem;\n",
       "  text-decoration: none;\n",
       "  /* unfitted */\n",
       "  color: var(--sklearn-color-unfitted-level-1);\n",
       "  border: var(--sklearn-color-unfitted-level-1) 1pt solid;\n",
       "}\n",
       "\n",
       "#sk-container-id-3 a.estimator_doc_link.fitted {\n",
       "  /* fitted */\n",
       "  border: var(--sklearn-color-fitted-level-1) 1pt solid;\n",
       "  color: var(--sklearn-color-fitted-level-1);\n",
       "}\n",
       "\n",
       "/* On hover */\n",
       "#sk-container-id-3 a.estimator_doc_link:hover {\n",
       "  /* unfitted */\n",
       "  background-color: var(--sklearn-color-unfitted-level-3);\n",
       "  color: var(--sklearn-color-background);\n",
       "  text-decoration: none;\n",
       "}\n",
       "\n",
       "#sk-container-id-3 a.estimator_doc_link.fitted:hover {\n",
       "  /* fitted */\n",
       "  background-color: var(--sklearn-color-fitted-level-3);\n",
       "}\n",
       "</style><div id=\"sk-container-id-3\" class=\"sk-top-container\"><div class=\"sk-text-repr-fallback\"><pre>LogisticRegression(max_iter=1000, random_state=42)</pre><b>In a Jupyter environment, please rerun this cell to show the HTML representation or trust the notebook. <br />On GitHub, the HTML representation is unable to render, please try loading this page with nbviewer.org.</b></div><div class=\"sk-container\" hidden><div class=\"sk-item\"><div class=\"sk-estimator fitted sk-toggleable\"><input class=\"sk-toggleable__control sk-hidden--visually\" id=\"sk-estimator-id-3\" type=\"checkbox\" checked><label for=\"sk-estimator-id-3\" class=\"sk-toggleable__label fitted sk-toggleable__label-arrow fitted\">&nbsp;&nbsp;LogisticRegression<a class=\"sk-estimator-doc-link fitted\" rel=\"noreferrer\" target=\"_blank\" href=\"https://scikit-learn.org/1.5/modules/generated/sklearn.linear_model.LogisticRegression.html\">?<span>Documentation for LogisticRegression</span></a><span class=\"sk-estimator-doc-link fitted\">i<span>Fitted</span></span></label><div class=\"sk-toggleable__content fitted\"><pre>LogisticRegression(max_iter=1000, random_state=42)</pre></div> </div></div></div></div>"
      ],
      "text/plain": [
       "LogisticRegression(max_iter=1000, random_state=42)"
      ]
     },
     "execution_count": 202,
     "metadata": {},
     "output_type": "execute_result"
    }
   ],
   "source": [
    "from sklearn.linear_model import LogisticRegression\n",
    "AI = LogisticRegression(random_state=42, max_iter=1000)\n",
    "AI.fit(X_train_scaled, Y_train)"
   ]
  },
  {
   "cell_type": "code",
   "execution_count": 204,
   "id": "e41ee5bc-df72-43e1-9d5a-51e9bf14f2cc",
   "metadata": {},
   "outputs": [
    {
     "data": {
      "text/plain": [
       "0.2653698707936959"
      ]
     },
     "execution_count": 204,
     "metadata": {},
     "output_type": "execute_result"
    }
   ],
   "source": [
    "veri['Churn'].mean()\n",
    "#%26.54ü son 12 ayda şirketten ayrılmış(kayıp oranı)"
   ]
  },
  {
   "cell_type": "code",
   "execution_count": 219,
   "id": "9615dd3c-6ac6-437c-b1dc-64232d4d0cca",
   "metadata": {},
   "outputs": [
    {
     "data": {
      "text/plain": [
       "0.11269517990495587"
      ]
     },
     "execution_count": 219,
     "metadata": {},
     "output_type": "execute_result"
    }
   ],
   "source": [
    "veri[veri['Contract_One year']==1]['Churn'].mean()\n",
    "#1 yıllık sözleşmelerde kayıp orta (%11,3)"
   ]
  },
  {
   "cell_type": "code",
   "execution_count": 231,
   "id": "5cbb2bfa-0b14-4adb-8b20-1cf9e135c9cd",
   "metadata": {},
   "outputs": [
    {
     "data": {
      "text/plain": [
       "0.02831858407079646"
      ]
     },
     "execution_count": 231,
     "metadata": {},
     "output_type": "execute_result"
    }
   ],
   "source": [
    "veri[veri['Contract_Two year']==1]['Churn'].mean()\n",
    "#2 yıllık sözleşmeler neredeyse hiç kayıp yok %2.83"
   ]
  },
  {
   "cell_type": "code",
   "execution_count": 229,
   "id": "391c8f45-1634-4329-9f8a-35053714ae8d",
   "metadata": {},
   "outputs": [
    {
     "data": {
      "text/plain": [
       "0.4270967741935484"
      ]
     },
     "execution_count": 229,
     "metadata": {},
     "output_type": "execute_result"
    }
   ],
   "source": [
    "aylik_mask = (veri['Contract_One year'] == 0) & (veri['Contract_Two year'] == 0)\n",
    "veri[aylik_mask]['Churn'].mean()\n",
    "#Aylık sözleşmelerde kayıp çok yüksek (%42,7)"
   ]
  },
  {
   "cell_type": "code",
   "execution_count": 233,
   "id": "8f98e270-b35d-4106-8853-ee236d353787",
   "metadata": {},
   "outputs": [
    {
     "data": {
      "text/plain": [
       "Churn\n",
       "0    37.569965\n",
       "1    17.979133\n",
       "Name: tenure, dtype: float64"
      ]
     },
     "execution_count": 233,
     "metadata": {},
     "output_type": "execute_result"
    }
   ],
   "source": [
    "veri.groupby('Churn')['tenure'].mean()\n",
    "#Ayrılanların ortalaması düşük → kısa süreli müşteriler riskli."
   ]
  },
  {
   "cell_type": "code",
   "execution_count": 237,
   "id": "ec127434-c171-408e-aee3-e9f1efb79377",
   "metadata": {},
   "outputs": [
    {
     "data": {
      "text/plain": [
       "Churn\n",
       "0    61.265124\n",
       "1    74.441332\n",
       "Name: MonthlyCharges, dtype: float64"
      ]
     },
     "execution_count": 237,
     "metadata": {},
     "output_type": "execute_result"
    }
   ],
   "source": [
    "veri.groupby('Churn')['MonthlyCharges'].mean()\n",
    "#Ayrılanların ortalaması yüksek → aylık ücreti yüksek müşteriler riskli."
   ]
  },
  {
   "cell_type": "code",
   "execution_count": 241,
   "id": "79aac1e1-38d6-4a5d-8ab1-7f21c47305e0",
   "metadata": {},
   "outputs": [
    {
     "data": {
      "text/plain": [
       "Churn\n",
       "0    2549.911442\n",
       "1    1531.796094\n",
       "Name: TotalCharges, dtype: float64"
      ]
     },
     "execution_count": 241,
     "metadata": {},
     "output_type": "execute_result"
    }
   ],
   "source": [
    "veri.groupby('Churn')['TotalCharges'].mean()\n",
    "#Ayrılanların ortalaması düşük → toplam ödemesi az olanlar riskli."
   ]
  },
  {
   "cell_type": "code",
   "execution_count": 243,
   "id": "7859f431-2d97-4aa5-b960-3aefe9a36500",
   "metadata": {},
   "outputs": [
    {
     "data": {
      "text/plain": [
       "Index(['gender', 'SeniorCitizen', 'Partner', 'Dependents', 'tenure',\n",
       "       'PhoneService', 'PaperlessBilling', 'MonthlyCharges', 'TotalCharges',\n",
       "       'Churn',\n",
       "       ...\n",
       "       'StreamingTV_1', 'StreamingTV_No internet service', 'StreamingMovies_0',\n",
       "       'StreamingMovies_1', 'StreamingMovies_No internet service',\n",
       "       'Contract_One year', 'Contract_Two year',\n",
       "       'PaymentMethod_Bank transfer (automatic)',\n",
       "       'PaymentMethod_Credit card (automatic)',\n",
       "       'PaymentMethod_Electronic check'],\n",
       "      dtype='object', length=7081)"
      ]
     },
     "execution_count": 243,
     "metadata": {},
     "output_type": "execute_result"
    }
   ],
   "source": [
    "veri.columns"
   ]
  },
  {
   "cell_type": "code",
   "execution_count": 245,
   "id": "fc01dd93-959d-4e32-b6e9-9a4da46deb21",
   "metadata": {},
   "outputs": [
    {
     "data": {
      "text/plain": [
       "Churn\n",
       "0    0.535562\n",
       "1    0.749064\n",
       "Name: PaperlessBilling, dtype: float64"
      ]
     },
     "execution_count": 245,
     "metadata": {},
     "output_type": "execute_result"
    }
   ],
   "source": [
    "veri.groupby('Churn')['PaperlessBilling'].mean()"
   ]
  },
  {
   "cell_type": "code",
   "execution_count": 249,
   "id": "4cd3074e-0f0c-4253-a3bc-1fbbf9fa7776",
   "metadata": {},
   "outputs": [
    {
     "data": {
      "text/plain": [
       "['TechSupport_0', 'TechSupport_1', 'TechSupport_No internet service']"
      ]
     },
     "execution_count": 249,
     "metadata": {},
     "output_type": "execute_result"
    }
   ],
   "source": [
    "[c for c in veri.columns if 'Tech' in c]\n"
   ]
  },
  {
   "cell_type": "code",
   "execution_count": 251,
   "id": "a1e0d370-9d9b-431d-88f1-875e12b10cc6",
   "metadata": {},
   "outputs": [
    {
     "data": {
      "text/plain": [
       "Churn\n",
       "0    0.391767\n",
       "1    0.773676\n",
       "Name: TechSupport_0, dtype: float64"
      ]
     },
     "execution_count": 251,
     "metadata": {},
     "output_type": "execute_result"
    }
   ],
   "source": [
    "veri.groupby('Churn')['TechSupport_0'].mean()\n",
    "#Teknik destek almayanlar %77\n",
    "#Teknik destek almayanlar kayıp çok yüksek → riskli grup"
   ]
  },
  {
   "cell_type": "code",
   "execution_count": 259,
   "id": "5ece7dfe-4b87-48e1-83a4-491faa2b5af8",
   "metadata": {},
   "outputs": [
    {
     "data": {
      "text/plain": [
       "Churn\n",
       "0    0.335137\n",
       "1    0.165864\n",
       "Name: TechSupport_1, dtype: float64"
      ]
     },
     "execution_count": 259,
     "metadata": {},
     "output_type": "execute_result"
    }
   ],
   "source": [
    "veri.groupby('Churn')['TechSupport_1'].mean()\n",
    "#Teknik destek alanlar %16\n",
    "#Teknik destek alanlar kayıp çok düşük → hizmet çok etkili"
   ]
  },
  {
   "cell_type": "code",
   "execution_count": 257,
   "id": "2de33127-28a0-4948-a6d0-0cf6059cb71e",
   "metadata": {},
   "outputs": [
    {
     "data": {
      "text/plain": [
       "Churn\n",
       "0    0.273096\n",
       "1    0.060460\n",
       "Name: TechSupport_No internet service, dtype: float64"
      ]
     },
     "execution_count": 257,
     "metadata": {},
     "output_type": "execute_result"
    }
   ],
   "source": [
    "veri.groupby('Churn')['TechSupport_No internet service'].mean()\n",
    "#İnterneti olmayanlar %6"
   ]
  },
  {
   "cell_type": "code",
   "execution_count": 263,
   "id": "a197c651-c0cf-4e02-b955-ee411ed1e84a",
   "metadata": {},
   "outputs": [
    {
     "data": {
      "text/plain": [
       "['PaperlessBilling']"
      ]
     },
     "execution_count": 263,
     "metadata": {},
     "output_type": "execute_result"
    }
   ],
   "source": [
    "[c for c in veri.columns if 'Paper' in c]"
   ]
  },
  {
   "cell_type": "code",
   "execution_count": 269,
   "id": "f2073b5d-27ea-40a9-bd84-517359428642",
   "metadata": {},
   "outputs": [
    {
     "data": {
      "text/plain": [
       "Churn\n",
       "0    0.535562\n",
       "1    0.749064\n",
       "Name: PaperlessBilling, dtype: float64"
      ]
     },
     "execution_count": 269,
     "metadata": {},
     "output_type": "execute_result"
    }
   ],
   "source": [
    "veri.groupby('Churn')['PaperlessBilling'].mean()\n",
    "#Kağıtsız fatura alanlarda ayrılma oranı %74,9\n",
    "#Kağıtsız fatura almayanlarda %53,6"
   ]
  },
  {
   "cell_type": "code",
   "execution_count": 271,
   "id": "12e9076e-0d8e-4701-9feb-52ad2629b79c",
   "metadata": {},
   "outputs": [
    {
     "data": {
      "text/plain": [
       "['InternetService_DSL', 'InternetService_Fiber optic']"
      ]
     },
     "execution_count": 271,
     "metadata": {},
     "output_type": "execute_result"
    }
   ],
   "source": [
    "[c for c in veri.columns if 'Internet' in c]"
   ]
  },
  {
   "cell_type": "code",
   "execution_count": 293,
   "id": "3d4c9632-7ec1-437a-aefc-b4f6b762ca65",
   "metadata": {},
   "outputs": [
    {
     "data": {
      "text/plain": [
       "Churn\n",
       "0    0.379204\n",
       "1    0.245586\n",
       "Name: InternetService_DSL, dtype: float64"
      ]
     },
     "execution_count": 293,
     "metadata": {},
     "output_type": "execute_result"
    }
   ],
   "source": [
    "veri.groupby('Churn')['InternetService_DSL'].mean()\n",
    "#DSL kayıp düşük (%24)"
   ]
  },
  {
   "cell_type": "code",
   "execution_count": 277,
   "id": "157c9957-d9f6-49df-b732-b10612d2ae0d",
   "metadata": {},
   "outputs": [
    {
     "data": {
      "text/plain": [
       "Churn\n",
       "0    0.347700\n",
       "1    0.693954\n",
       "Name: InternetService_Fiber optic, dtype: float64"
      ]
     },
     "execution_count": 277,
     "metadata": {},
     "output_type": "execute_result"
    }
   ],
   "source": [
    "veri.groupby('Churn')['InternetService_Fiber optic'].mean()\n",
    "#Fiber yüksek (%69)"
   ]
  },
  {
   "cell_type": "code",
   "execution_count": 279,
   "id": "771969bb-db8d-4b60-883e-4bbc7461d131",
   "metadata": {},
   "outputs": [
    {
     "data": {
      "text/plain": [
       "['PhoneService']"
      ]
     },
     "execution_count": 279,
     "metadata": {},
     "output_type": "execute_result"
    }
   ],
   "source": [
    "[c for c in veri.columns if 'Phone' in c]"
   ]
  },
  {
   "cell_type": "code",
   "execution_count": 281,
   "id": "86300df9-e640-41b6-843f-8662adf8dae8",
   "metadata": {},
   "outputs": [
    {
     "data": {
      "text/plain": [
       "Churn\n",
       "0    0.901044\n",
       "1    0.909042\n",
       "Name: PhoneService, dtype: float64"
      ]
     },
     "execution_count": 281,
     "metadata": {},
     "output_type": "execute_result"
    }
   ],
   "source": [
    "veri.groupby('Churn')['PhoneService'].mean()"
   ]
  },
  {
   "cell_type": "code",
   "execution_count": 283,
   "id": "de500b14-163a-40e4-b46f-90fc21e04416",
   "metadata": {},
   "outputs": [
    {
     "data": {
      "text/plain": [
       "['StreamingTV_0',\n",
       " 'StreamingTV_1',\n",
       " 'StreamingTV_No internet service',\n",
       " 'StreamingMovies_0',\n",
       " 'StreamingMovies_1',\n",
       " 'StreamingMovies_No internet service']"
      ]
     },
     "execution_count": 283,
     "metadata": {},
     "output_type": "execute_result"
    }
   ],
   "source": [
    "[c for c in veri.columns if 'Streaming' in c]"
   ]
  },
  {
   "cell_type": "code",
   "execution_count": 285,
   "id": "3fece2ba-ce89-4e19-91d4-c42432ffe2ce",
   "metadata": {},
   "outputs": [
    {
     "data": {
      "text/plain": [
       "Churn\n",
       "0    0.361036\n",
       "1    0.504013\n",
       "Name: StreamingTV_0, dtype: float64"
      ]
     },
     "execution_count": 285,
     "metadata": {},
     "output_type": "execute_result"
    }
   ],
   "source": [
    "veri.groupby('Churn')['StreamingTV_0'].mean()"
   ]
  },
  {
   "cell_type": "code",
   "execution_count": 287,
   "id": "18d308a6-25b1-46c4-84d4-9d1ec3b9e463",
   "metadata": {},
   "outputs": [
    {
     "data": {
      "text/plain": [
       "Churn\n",
       "0    0.365868\n",
       "1    0.435527\n",
       "Name: StreamingTV_1, dtype: float64"
      ]
     },
     "execution_count": 287,
     "metadata": {},
     "output_type": "execute_result"
    }
   ],
   "source": [
    "veri.groupby('Churn')['StreamingTV_1'].mean()"
   ]
  },
  {
   "cell_type": "code",
   "execution_count": 289,
   "id": "ecd8220b-314e-41b0-961a-2d701c2c395e",
   "metadata": {},
   "outputs": [
    {
     "data": {
      "text/plain": [
       "Churn\n",
       "0    0.356977\n",
       "1    0.501873\n",
       "Name: StreamingMovies_0, dtype: float64"
      ]
     },
     "execution_count": 289,
     "metadata": {},
     "output_type": "execute_result"
    }
   ],
   "source": [
    "veri.groupby('Churn')['StreamingMovies_0'].mean()"
   ]
  },
  {
   "cell_type": "code",
   "execution_count": 291,
   "id": "18f56d86-3bde-4310-997d-aefcf1d89475",
   "metadata": {},
   "outputs": [
    {
     "data": {
      "text/plain": [
       "Churn\n",
       "0    0.369927\n",
       "1    0.437667\n",
       "Name: StreamingMovies_1, dtype: float64"
      ]
     },
     "execution_count": 291,
     "metadata": {},
     "output_type": "execute_result"
    }
   ],
   "source": [
    "veri.groupby('Churn')['StreamingMovies_1'].mean()"
   ]
  },
  {
   "cell_type": "code",
   "execution_count": null,
   "id": "f3d4093d-8ae8-4f9b-a1f7-55eea8c14224",
   "metadata": {},
   "outputs": [],
   "source": []
  }
 ],
 "metadata": {
  "kernelspec": {
   "display_name": "Python [conda env:base] *",
   "language": "python",
   "name": "conda-base-py"
  },
  "language_info": {
   "codemirror_mode": {
    "name": "ipython",
    "version": 3
   },
   "file_extension": ".py",
   "mimetype": "text/x-python",
   "name": "python",
   "nbconvert_exporter": "python",
   "pygments_lexer": "ipython3",
   "version": "3.12.3"
  }
 },
 "nbformat": 4,
 "nbformat_minor": 5
}
